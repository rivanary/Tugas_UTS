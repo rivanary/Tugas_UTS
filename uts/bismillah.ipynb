{
 "cells": [
  {
   "cell_type": "code",
   "execution_count": 1,
   "id": "2844c084-8b4b-4b93-8080-7e60b6d8074c",
   "metadata": {},
   "outputs": [],
   "source": [
    "import numpy as np\n",
    "import pandas as pd"
   ]
  },
  {
   "cell_type": "code",
   "execution_count": 2,
   "id": "51edf2d7-519e-4828-8065-127b0e5cfaea",
   "metadata": {},
   "outputs": [],
   "source": [
    "##Tugas_Bobot"
   ]
  },
  {
   "cell_type": "code",
   "execution_count": 3,
   "id": "530a7d8e-fbb9-48d5-a522-df436921692b",
   "metadata": {},
   "outputs": [],
   "source": [
    "data_bobot = pd.read_csv(\"C:/Windows/System32/Folder Jupyterlab/uts/bobot.csv\", sep = \";\")"
   ]
  },
  {
   "cell_type": "code",
   "execution_count": 4,
   "id": "11013c43-17f9-4c34-8999-5e2cc5f4ba9b",
   "metadata": {},
   "outputs": [],
   "source": [
    "#print(data_bobot)"
   ]
  },
  {
   "cell_type": "code",
   "execution_count": 5,
   "id": "5d9099c5-9e57-495b-8ae2-40405753c457",
   "metadata": {},
   "outputs": [],
   "source": [
    "kisaran_harga = np.array(data_bobot[\"Kisaran harga\"])\n",
    "ketersediaan = np.array(data_bobot[\"Ketersediaan stok\"])\n",
    "jarak = np.array(data_bobot[\"Jarak (km)\"])\n",
    "respon = np.array(data_bobot[\"Respon\"])\n",
    "commerce = np.array(data_bobot[\"e commerce\"])"
   ]
  },
  {
   "cell_type": "code",
   "execution_count": 6,
   "id": "1fcf43b3-94c2-4c6b-a620-889036915205",
   "metadata": {},
   "outputs": [],
   "source": [
    "new_bobot = pd.DataFrame({\"kisaran_harga\": kisaran_harga, \"ketersediaan\": ketersediaan, \"jarak\": jarak, \"respon\": respon, \"commerce\" : commerce})\n",
    "new_bobot = new_bobot.transpose()"
   ]
  },
  {
   "cell_type": "code",
   "execution_count": 7,
   "id": "2aa72cf8-1323-458d-bc0f-82ea71dca80d",
   "metadata": {},
   "outputs": [],
   "source": [
    "# print(new_bobot)\n",
    "bobot_total = 17"
   ]
  },
  {
   "cell_type": "code",
   "execution_count": 8,
   "id": "79a0843f-c2e0-41e3-a325-357cdcb140f2",
   "metadata": {},
   "outputs": [],
   "source": [
    "# print(new_bobot[0])\n",
    "new_data_bobot = []\n",
    "for i in new_bobot[0]:\n",
    "    new_data = int(i) / bobot_total\n",
    "    new_data_bobot.append(new_data)"
   ]
  },
  {
   "cell_type": "code",
   "execution_count": 9,
   "id": "82a20224-8e79-4fea-a422-5089b4375cdd",
   "metadata": {},
   "outputs": [],
   "source": [
    "##tugas table\n",
    "data_bobot1 = pd.read_csv(\"C:/Windows/System32/Folder Jupyterlab/uts/tabel.csv\", sep = \";\")\n",
    "# print(data_bobot)"
   ]
  },
  {
   "cell_type": "code",
   "execution_count": 10,
   "id": "dda3006e-170e-4571-865b-a388eabd0b2e",
   "metadata": {},
   "outputs": [],
   "source": [
    "nama = np.array(data_bobot1[\"Nama\"])\n",
    "Kisaran_harga = np.array(data_bobot1[\"Kisaran harga\"])\n",
    "Customer_Service = np.array(data_bobot1[\"Customer Service\"])\n",
    "Support_System = np.array(data_bobot1[\"Support System\"])\n",
    "Pilihan_pembayaran = np.array(data_bobot1[\"Pilihan pembayaran\"])\n",
    "jumlah_server = np.array(data_bobot1[\"Jumlah Server\"])"
   ]
  },
  {
   "cell_type": "code",
   "execution_count": 11,
   "id": "1ba96b80-20fd-4351-9c62-02052e4de3a6",
   "metadata": {},
   "outputs": [],
   "source": [
    "new_table = pd.DataFrame({\"Kisaran_harga\":Kisaran_harga , \"Customer_Service\": Customer_Service,\n",
    "                          \"Support_System\": Support_System, \"Pilihan_pembayaran\" : Pilihan_pembayaran, \"jumlah_server\" : jumlah_server})\n"
   ]
  },
  {
   "cell_type": "code",
   "execution_count": 12,
   "id": "2ed16456-493f-4a37-81d0-2d5a160f137b",
   "metadata": {},
   "outputs": [],
   "source": [
    "def jumlah_total(daftar_nilai):\n",
    "    #inisialisasi\n",
    "    z=0;\n",
    "    x = daftar_nilai\n",
    "    jml = len(x)\n",
    "\n",
    "    #proses iterasi penjumlahan\n",
    "    #menggunakan fungsi range\n",
    "    for i in range(jml):\n",
    "        y = x[i]\n",
    "        y = int(y)\n",
    "        z+=y\n",
    "\n",
    "    #kembalikan hasil\n",
    "    return z"
   ]
  },
  {
   "cell_type": "code",
   "execution_count": 13,
   "id": "7b4bb9bc-1a6e-4f05-a218-6bd62475e307",
   "metadata": {},
   "outputs": [],
   "source": [
    "A_nama = jumlah_total(new_table.loc[0])\n",
    "B_nama = jumlah_total(new_table.loc[1])\n",
    "C_nama = jumlah_total(new_table.loc[2])\n",
    "D_nama = jumlah_total(new_table.loc[3])\n",
    "F_nama = jumlah_total(new_table.loc[4])\n"
   ]
  },
  {
   "cell_type": "code",
   "execution_count": 14,
   "id": "79c8c8ba-1ed3-4dc5-8b21-67d40edb4f39",
   "metadata": {},
   "outputs": [
    {
     "name": "stdout",
     "output_type": "stream",
     "text": [
      "[143 104  87 115 135]\n"
     ]
    }
   ],
   "source": [
    "sum_data = np.array([A_nama,B_nama,C_nama,D_nama,F_nama])\n",
    "print(sum_data)\n"
   ]
  },
  {
   "cell_type": "code",
   "execution_count": 15,
   "id": "dc4206cb-6e5e-4e70-8e14-1b967d4251a4",
   "metadata": {},
   "outputs": [],
   "source": [
    "new_table = pd.DataFrame({\"nama\": nama, \"Kisaran_harga\":Kisaran_harga , \"Customer_Service\": Customer_Service,\n",
    "                          \"Support_System\": Support_System, \"Pilihan_pembayaran\" : Pilihan_pembayaran, \"jumlah_server\" : jumlah_server, \"Total\": sum_data})"
   ]
  },
  {
   "cell_type": "code",
   "execution_count": 16,
   "id": "9100daee-5cf9-4779-82ae-57197be51d3f",
   "metadata": {},
   "outputs": [],
   "source": [
    "sum_col1 = jumlah_total(new_table.Kisaran_harga)\n",
    "sum_col2 = jumlah_total(new_table.Customer_Service)\n",
    "sum_col3 = jumlah_total(new_table.Support_System)\n",
    "sum_col4 = jumlah_total(new_table.Pilihan_pembayaran)\n",
    "sum_col5 = jumlah_total(new_table.jumlah_server)"
   ]
  },
  {
   "cell_type": "code",
   "execution_count": 17,
   "id": "66549c86-8001-43bd-877d-4c0623087533",
   "metadata": {},
   "outputs": [],
   "source": [
    "# print(new_table)\n",
    "sum_data1 = np.array([sum_col1,sum_col2,sum_col3,sum_col4,sum_col5])\n",
    "# print(sum_data1)\n"
   ]
  },
  {
   "cell_type": "code",
   "execution_count": 18,
   "id": "0ac57e24-4db4-4ec9-834c-af4108c2df8f",
   "metadata": {},
   "outputs": [],
   "source": [
    "providerA = A_nama / sum_col1\n",
    "providerB= B_nama / sum_col2\n",
    "providerC = C_nama / sum_col3\n",
    "providerD = D_nama / sum_col4\n",
    "providerF = F_nama / sum_col5\n"
   ]
  },
  {
   "cell_type": "code",
   "execution_count": 19,
   "id": "e0567742-f91f-4633-8766-c28dbec48736",
   "metadata": {},
   "outputs": [
    {
     "name": "stdout",
     "output_type": "stream",
     "text": [
      "6.809523809523809\n",
      "5.2\n",
      "1.7058823529411764\n",
      "5.75\n",
      "0.2860169491525424\n"
     ]
    }
   ],
   "source": [
    "print(providerA)\n",
    "print(providerB)\n",
    "print(providerC)\n",
    "print(providerD)\n",
    "print(providerF)\n"
   ]
  },
  {
   "cell_type": "code",
   "execution_count": null,
   "id": "94394084-ab4a-4679-b30e-acb3d00ff8ad",
   "metadata": {},
   "outputs": [],
   "source": []
  },
  {
   "cell_type": "code",
   "execution_count": null,
   "id": "8836685b-7c3f-41f3-bec5-cc8aba81a6c3",
   "metadata": {},
   "outputs": [],
   "source": []
  },
  {
   "cell_type": "code",
   "execution_count": null,
   "id": "eeb9fb6f-75fb-4471-bac5-52a814cd9fbb",
   "metadata": {},
   "outputs": [],
   "source": []
  },
  {
   "cell_type": "code",
   "execution_count": null,
   "id": "ec7bafa1-dfc6-498c-b12b-4d736c914bd3",
   "metadata": {},
   "outputs": [],
   "source": []
  },
  {
   "cell_type": "code",
   "execution_count": null,
   "id": "e0338cf6-1c71-43aa-b36c-e96a1dec30b4",
   "metadata": {},
   "outputs": [],
   "source": []
  }
 ],
 "metadata": {
  "kernelspec": {
   "display_name": "Python 3",
   "language": "python",
   "name": "python3"
  },
  "language_info": {
   "codemirror_mode": {
    "name": "ipython",
    "version": 3
   },
   "file_extension": ".py",
   "mimetype": "text/x-python",
   "name": "python",
   "nbconvert_exporter": "python",
   "pygments_lexer": "ipython3",
   "version": "3.8.8"
  }
 },
 "nbformat": 4,
 "nbformat_minor": 5
}
